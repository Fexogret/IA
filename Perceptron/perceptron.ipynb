{
 "cells": [
  {
   "cell_type": "code",
   "execution_count": 1,
   "metadata": {},
   "outputs": [],
   "source": [
    "##importacion de las librerias##\n",
    "import numpy as np"
   ]
  },
  {
   "cell_type": "code",
   "execution_count": 2,
   "metadata": {},
   "outputs": [],
   "source": [
    "##creacoion de la clase perceptron\n",
    "class Perceptron(object):\n",
    "   def __init__(self, rate = 0.01, niter = 10):\n",
    "      self.rate = rate\n",
    "      self.niter = niter\n",
    "\n",
    "   def fit(self, X, y):\n",
    "      \"\"\"Fit training data\n",
    "      X : Training vectors, X.shape : [#muestras, #features]\n",
    "      y : Target values, y.shape : [#muestras]\n",
    "      \"\"\"\n",
    "\n",
    "      # pesos \n",
    "      self.weight = np.zeros(1 + X.shape[1])\n",
    "\n",
    "      # Número de errores de clasificación \n",
    "      self.errors = []  # Número de errores de clasificación \n",
    "\n",
    "      for i in range(self.niter):\n",
    "         err = 0\n",
    "         for xi, target in zip(X, y):\n",
    "            delta_w = self.rate * (target - self.predict(xi))\n",
    "            self.weight[1:] += delta_w * xi\n",
    "            self.weight[0] += delta_w\n",
    "            err += int(delta_w != 0.0)\n",
    "         self.errors.append(err)\n",
    "      return self\n",
    "\n",
    "   def net_input(self, X):\n",
    "      \"\" \"Calcular entrada neta\" \"\"\n",
    "      return np.dot(X, self.weight[1:]) + self.weight[0]\n",
    "\n",
    "   def predict(self, X):\n",
    "      \"\" \"Devolver etiqueta de clase después del paso de unidad\" \"\"\n",
    "      return np.where(self.net_input(X) >= 0.0, 1, -1)"
   ]
  },
  {
   "cell_type": "code",
   "execution_count": null,
   "metadata": {},
   "outputs": [],
   "source": []
  }
 ],
 "metadata": {
  "kernelspec": {
   "display_name": "Python 3",
   "language": "python",
   "name": "python3"
  },
  "language_info": {
   "codemirror_mode": {
    "name": "ipython",
    "version": 3
   },
   "file_extension": ".py",
   "mimetype": "text/x-python",
   "name": "python",
   "nbconvert_exporter": "python",
   "pygments_lexer": "ipython3",
   "version": "3.7.1"
  }
 },
 "nbformat": 4,
 "nbformat_minor": 2
}
