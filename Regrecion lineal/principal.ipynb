{
 "cells": [
  {
   "cell_type": "code",
   "execution_count": 1,
   "metadata": {},
   "outputs": [],
   "source": [
    "    ########## LIBRERÍAS A UTILIZAR ##########\n",
    "    #Se importan la librerias a utilizar\n",
    "    import numpy as np\n",
    "    from sklearn import datasets, linear_model\n",
    "    import matplotlib.pyplot as plt\n",
    "    from sklearn import datasets\n",
    "    import pandas as pd\n",
    "   "
   ]
  },
  {
   "cell_type": "code",
   "execution_count": 3,
   "metadata": {},
   "outputs": [
    {
     "ename": "IndentationError",
     "evalue": "unexpected indent (<ipython-input-3-7ee904ed9331>, line 3)",
     "output_type": "error",
     "traceback": [
      "\u001b[1;36m  File \u001b[1;32m\"<ipython-input-3-7ee904ed9331>\"\u001b[1;36m, line \u001b[1;32m3\u001b[0m\n\u001b[1;33m    iris = pd.read_csv(\"Iris.csv\")\u001b[0m\n\u001b[1;37m    ^\u001b[0m\n\u001b[1;31mIndentationError\u001b[0m\u001b[1;31m:\u001b[0m unexpected indent\n"
     ]
    }
   ],
   "source": [
    " ########## PREPARAR LA DATA ##########\n",
    "    #cargamos datos\n",
    "    iris = pd.read_csv(\"Iris.csv\")\n",
    "   \n",
    "    #Eliminamos la primera columna ID\n",
    "    iris = iris.drop('Id',axis=1)\n",
    "    \n",
    "     print(iris.head())\n",
    "    "
   ]
  },
  {
   "cell_type": "code",
   "execution_count": 5,
   "metadata": {},
   "outputs": [
    {
     "ename": "IndentationError",
     "evalue": "unexpected indent (<ipython-input-5-98ab60e9d97d>, line 3)",
     "output_type": "error",
     "traceback": [
      "\u001b[1;36m  File \u001b[1;32m\"<ipython-input-5-98ab60e9d97d>\"\u001b[1;36m, line \u001b[1;32m3\u001b[0m\n\u001b[1;33m    print('Información en el dataset:')\u001b[0m\n\u001b[1;37m    ^\u001b[0m\n\u001b[1;31mIndentationError\u001b[0m\u001b[1;31m:\u001b[0m unexpected indent\n"
     ]
    }
   ],
   "source": [
    "########## ENTENDIMIENTO DE LA DATA ##########\n",
    "    #Verifico la información contenida en el dataset\n",
    "    print('Información en el dataset:')\n",
    "    print(iris.keys())\n",
    "    print()\n",
    "   "
   ]
  },
  {
   "cell_type": "code",
   "execution_count": null,
   "metadata": {},
   "outputs": [],
   "source": [
    " #Verifico las características del dataset\n",
    "    print('Características del dataset:')\n",
    "    print(boston.DESCR)\n",
    "    "
   ]
  },
  {
   "cell_type": "code",
   "execution_count": null,
   "metadata": {},
   "outputs": [],
   "source": [
    "#Verifico la cantidad de datos que hay en los dataset\n",
    "    print('Cantidad de datos:')\n",
    "    print(boston.data.shape)\n",
    "    print()\n",
    "    "
   ]
  },
  {
   "cell_type": "code",
   "execution_count": null,
   "metadata": {},
   "outputs": [],
   "source": [
    "#Verifico la información de las columnas\n",
    "    print('Nombres columnas:')\n",
    "    print(boston.feature_names)\n",
    "    "
   ]
  },
  {
   "cell_type": "code",
   "execution_count": null,
   "metadata": {},
   "outputs": [],
   "source": [
    "########## PREPARAR LA DATA REGRESIÓN LINEAL SIMPLE ##########\n",
    "    #Seleccionamos solamente la columna 5 del dataset\n",
    "    X = boston.data[:, np.newaxis, 5]\n",
    "   "
   ]
  },
  {
   "cell_type": "code",
   "execution_count": null,
   "metadata": {},
   "outputs": [],
   "source": [
    " #Defino los datos correspondientes a las etiquetas\n",
    "    y = boston.target\n",
    "   "
   ]
  },
  {
   "cell_type": "code",
   "execution_count": null,
   "metadata": {},
   "outputs": [],
   "source": [
    " #Graficamos los datos correspondientes\n",
    "    plt.scatter(X, y)\n",
    "    plt.xlabel('Número de habitaciones')\n",
    "    plt.ylabel('Valor medio')\n",
    "    plt.show()\n",
    "    "
   ]
  },
  {
   "cell_type": "code",
   "execution_count": null,
   "metadata": {},
   "outputs": [],
   "source": [
    "########## IMPLEMENTACIÓN DE REGRESIÓN LINEAL SIMPLE ##########\n",
    "    from sklearn.model_selection import train_test_split\n",
    "    #Separo los datos de \"train\" en entrenamiento y prueba para probar los algoritmos\n",
    "    X_train, X_test, y_train, y_test = train_test_split(X, y, test_size=0.2)\n",
    "    #Defino el algoritmo a utilizar\n",
    "    lr = linear_model.LinearRegression()\n",
    "    #Entreno el modelo\n",
    "    lr.fit(X_train, y_train)\n",
    "    #Realizo una predicción\n",
    "    Y_pred = lr.predict(X_test)\n",
    "   "
   ]
  },
  {
   "cell_type": "code",
   "execution_count": null,
   "metadata": {},
   "outputs": [],
   "source": [
    " #Graficamos los datos junto con el modelo\n",
    "    plt.scatter(X_test, y_test)\n",
    "    plt.plot(X_test, Y_pred, color='red', linewidth=3)\n",
    "    plt.title('Regresión Lineal Simple')\n",
    "    plt.xlabel('Número de habitaciones')\n",
    "    plt.ylabel('Valor medio')\n",
    "    plt.show()\n",
    "    print()\n",
    "    print('DATOS DEL MODELO REGRESIÓN LINEAL SIMPLE')\n",
    "    print()\n",
    "    print('Valor de la pendiente o coeficiente \"a\":')\n",
    "    print(lr.coef_)\n",
    "    print('Valor de la intersección o coeficiente \"b\":')\n",
    "    print(lr.intercept_)\n",
    "    print()\n",
    "    print('La ecuación del modelo es igual a:')\n",
    "    print('y = ', lr.coef_, 'x ', lr.intercept_)\n",
    "    print()\n",
    "    print('Precisión del modelo:')\n",
    "    print(lr.score(X_train, y_train))"
   ]
  }
 ],
 "metadata": {
  "kernelspec": {
   "display_name": "Python 3",
   "language": "python",
   "name": "python3"
  },
  "language_info": {
   "codemirror_mode": {
    "name": "ipython",
    "version": 3
   },
   "file_extension": ".py",
   "mimetype": "text/x-python",
   "name": "python",
   "nbconvert_exporter": "python",
   "pygments_lexer": "ipython3",
   "version": "3.7.1"
  }
 },
 "nbformat": 4,
 "nbformat_minor": 2
}
